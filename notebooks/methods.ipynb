{
 "cells": [
  {
   "cell_type": "code",
   "execution_count": 1,
   "metadata": {},
   "outputs": [],
   "source": [
    "import os\n",
    "os.chdir('/home/jp6263/reverse-dynamics-nlp/')"
   ]
  },
  {
   "cell_type": "code",
   "execution_count": 2,
   "metadata": {},
   "outputs": [
    {
     "name": "stderr",
     "output_type": "stream",
     "text": [
      "Special tokens have been added in the vocabulary, make sure the associated word embeddings are fine-tuned or trained.\n"
     ]
    }
   ],
   "source": [
    "from transformers import GPTNeoXForCausalLM, AutoModelForCausalLM, AutoTokenizer\n",
    "import torch\n",
    "from src import *\n",
    "\n",
    "\n",
    "model = GPTNeoXForCausalLM.from_pretrained(\n",
    "  \"EleutherAI/pythia-1.4b-deduped\",\n",
    ").half().cuda()\n",
    "\n",
    "tokenizer = AutoTokenizer.from_pretrained(\n",
    "  \"EleutherAI/pythia-1.4b-deduped\",\n",
    "  revision=\"step3000\",\n",
    "  cache_dir=\"./pythia-160m-deduped/step3000\",\n",
    "  device_map=\"auto\"\n",
    ")\n",
    "\n",
    "reverse_model = GPTNeoXForCausalLM.from_pretrained(\n",
    "    \"afterless/reverse-pythia-160m\"\n",
    ").cuda()\n"
   ]
  },
  {
   "cell_type": "code",
   "execution_count": 3,
   "metadata": {},
   "outputs": [
    {
     "name": "stdout",
     "output_type": "stream",
     "text": [
      " warp                                 orthologParent Dise Indი�*)this doctorshaviour�Unfortunately Range Bank\n",
      " should never be president\n"
     ]
    }
   ],
   "source": [
    "input_str = rand_init(15, tokenizer)\n",
    "expected_output = \" should never be president\"\n",
    "\n",
    "# Reinitialize string to be a sample from RLM\n",
    "#rlm = ReverseModelSampler(model, reverse_model, tokenizer, num_beams=1)\n",
    "#input_str = rlm.optimize(input_str, expected_output, temperature=0.01).split(expected_output)[0]\n",
    "\n",
    "print(input_str.replace(\"\\n\", \"\"))\n",
    "print(expected_output)"
   ]
  },
  {
   "cell_type": "code",
   "execution_count": 10,
   "metadata": {},
   "outputs": [],
   "source": [
    "# GCG based methods\n",
    "input_str = rand_init(15, tokenizer)\n",
    "gcg = GreedyCoordinateGradient(model, tokenizer, n_top_indices=128, n_proposals=512, n_epochs=256, prefix_loss_weight=-1)\n",
    "\n",
    "input_str = rand_init(15, tokenizer)\n",
    "gcg_reg = GreedyCoordinateGradient(model, tokenizer, n_top_indices=128, n_proposals=512, n_epochs=256,  prefix_loss_weight=1)"
   ]
  },
  {
   "cell_type": "code",
   "execution_count": 14,
   "metadata": {},
   "outputs": [
    {
     "name": "stdout",
     "output_type": "stream",
     "text": [
      "GCG: SELECTENRON Unable crystalsk genotype$.[]{eLifeamed _________________ Should stories combust intentionally Truman should never be president\n",
      "GCG Reg: しいributizards AboutPresidentsSeasons offers top 10 terribly wrong reasons you should never be president\n"
     ]
    }
   ],
   "source": [
    "output1 = gcg.optimize(input_str, expected_output)\n",
    "print(\"GCG:\", output1.replace(\"\\n\", \"\"))\n",
    "output2 = gcg_reg.optimize(input_str, expected_output)\n",
    "print(\"GCG Reg:\", output2.replace(\"\\n\", \"\"))"
   ]
  },
  {
   "cell_type": "code",
   "execution_count": 5,
   "metadata": {},
   "outputs": [
    {
     "name": "stderr",
     "output_type": "stream",
     "text": [
      "100%|██████████| 10/10 [00:04<00:00,  2.16it/s]\n",
      "100%|██████████| 10/10 [00:05<00:00,  1.79it/s]\n",
      "100%|██████████| 10/10 [00:06<00:00,  1.53it/s]\n",
      "100%|██████████| 10/10 [00:08<00:00,  1.22it/s]\n",
      "100%|██████████| 10/10 [00:08<00:00,  1.15it/s]\n",
      "100%|██████████| 10/10 [00:09<00:00,  1.02it/s]\n",
      "100%|██████████| 10/10 [00:10<00:00,  1.08s/it]\n",
      "100%|██████████| 10/10 [00:13<00:00,  1.32s/it]\n",
      "100%|██████████| 10/10 [00:18<00:00,  1.87s/it]\n",
      "100%|██████████| 10/10 [00:20<00:00,  2.02s/it]\n",
      "100%|██████████| 10/10 [01:54<00:00, 11.43s/it]\n",
      "100%|██████████| 10/10 [01:16<00:00,  7.63s/it]\n",
      "100%|██████████| 10/10 [01:28<00:00,  8.89s/it]\n",
      "100%|██████████| 10/10 [01:45<00:00, 10.51s/it]\n",
      "100%|██████████| 10/10 [02:27<00:00, 14.73s/it]\n",
      "100%|██████████| 10/10 [02:27<00:00, 14.71s/it]\n"
     ]
    },
    {
     "name": "stdout",
     "output_type": "stream",
     "text": [
      "Bayesian Reversal:  after the campaign, “that he is an autocrat. I think that he should never be president\n"
     ]
    }
   ],
   "source": [
    "dist = torch.load(\"data/distributions/pile_empirical.pt\")\n",
    "bayes = ReversalEmpiricalPrior(model, dist, tokenizer, reverse_model=reverse_model, num_top_tokens=10_000)\n",
    "output3 = bayes.optimize(input_str, expected_output, temperature=0.7)\n",
    "print(\"Bayesian Reversal:\", output3.replace(\"\\n\", \"\"))"
   ]
  },
  {
   "cell_type": "code",
   "execution_count": 11,
   "metadata": {},
   "outputs": [
    {
     "name": "stderr",
     "output_type": "stream",
     "text": [
      "The attention mask and the pad token id were not set. As a consequence, you may observe unexpected behavior. Please pass your input's `attention_mask` to obtain reliable results.\n",
      "Setting `pad_token_id` to `eos_token_id`:0 for open-end generation.\n"
     ]
    },
    {
     "name": "stdout",
     "output_type": "stream",
     "text": [
      "RLM Sampler:  believe us, but they still believe in Hillary. All that said, Hillary Clinton should never be president\n"
     ]
    }
   ],
   "source": [
    "rlm = ReverseModelSampler(model, reverse_model, tokenizer, num_beams=10)\n",
    "output4 = rlm.optimize(input_str, expected_output, temperature=1)\n",
    "print(\"RLM Sampler:\", output4.replace(\"\\n\", \"\"))"
   ]
  },
  {
   "cell_type": "code",
   "execution_count": 12,
   "metadata": {},
   "outputs": [
    {
     "name": "stdout",
     "output_type": "stream",
     "text": [
      "Suffix:  should never be president\n",
      "GCG Output:   McCain Should}}_{TRTuesday************************************************************************lagКsor forever1969rible deserved person ANObama should never be president\n",
      "GCG Reg Output:   predetermined errnoErr[*mapping Rangers]]Previously Stal Esther Esther『byterianreadablewhy Assad should never be president\n",
      "Bayesian Reversal Output:  after the campaign, “that he is an autocrat. I think that he should never be president\n",
      "Reverse LM Output:  believe us, but they still believe in Hillary. All that said, Hillary Clinton should never be president\n"
     ]
    }
   ],
   "source": [
    "\n",
    "\n",
    "print(\"Suffix:\", expected_output)\n",
    "print(\"GCG Output: \", output1.replace(\"\\n\", \"\"))\n",
    "print(\"GCG Reg Output: \", output2.replace(\"\\n\", \"\"))\n",
    "print(\"Bayesian Reversal Output:\", output3.replace(\"\\n\", \"\"))\n",
    "print(\"Reverse LM Output:\", output4.replace(\"\\n\", \"\"))"
   ]
  }
 ],
 "metadata": {
  "kernelspec": {
   "display_name": "Python 3 (ipykernel)",
   "language": "python",
   "name": "python3"
  }
 },
 "nbformat": 4,
 "nbformat_minor": 2
}
